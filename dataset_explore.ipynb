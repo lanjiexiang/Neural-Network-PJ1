version https://git-lfs.github.com/spec/v1
oid sha256:cbead5fec3d27b5e289fff4d3901fcc75d20eb274c881c70b52d7e7bb43bc50b
size 163754
